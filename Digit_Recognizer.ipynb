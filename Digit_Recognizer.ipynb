{
  "nbformat": 4,
  "nbformat_minor": 0,
  "metadata": {
    "colab": {
      "name": "Digit_Recognizer.ipynb",
      "provenance": [],
      "mount_file_id": "1I6zCfAzO0QvBlYillh45dSpRWt7in-R0",
      "authorship_tag": "ABX9TyM1vvzRebLpVpJI+b6PSb+i",
      "include_colab_link": true
    },
    "kernelspec": {
      "name": "python3",
      "display_name": "Python 3"
    }
  },
  "cells": [
    {
      "cell_type": "markdown",
      "metadata": {
        "id": "view-in-github",
        "colab_type": "text"
      },
      "source": [
        "<a href=\"https://colab.research.google.com/github/jsroa15/Digit_Recognizer/blob/main/Digit_Recognizer.ipynb\" target=\"_parent\"><img src=\"https://colab.research.google.com/assets/colab-badge.svg\" alt=\"Open In Colab\"/></a>"
      ]
    },
    {
      "cell_type": "markdown",
      "metadata": {
        "id": "_MB5xWYRfyrq"
      },
      "source": [
        "# Load Packages"
      ]
    },
    {
      "cell_type": "code",
      "metadata": {
        "id": "TThLHFFBfuPV"
      },
      "source": [
        "#Load packages\r\n",
        "\r\n",
        "import pandas as pd\r\n",
        "import numpy as np\r\n",
        "import tensorflow as tf\r\n",
        "from tensorflow import keras\r\n",
        "import matplotlib.pyplot as plt\r\n",
        "import seaborn as sns\r\n"
      ],
      "execution_count": 2,
      "outputs": []
    },
    {
      "cell_type": "markdown",
      "metadata": {
        "id": "xsOqKW1lg-hT"
      },
      "source": [
        "# Load Data"
      ]
    },
    {
      "cell_type": "code",
      "metadata": {
        "id": "-RE1niD5g916"
      },
      "source": [
        "data=pd.read_csv('/content/drive/MyDrive/Colab Notebooks/Digit Recognizer/train.csv')\r\n",
        "test=pd.read_csv('/content/drive/MyDrive/Colab Notebooks/Digit Recognizer/test.csv')"
      ],
      "execution_count": 69,
      "outputs": []
    },
    {
      "cell_type": "code",
      "metadata": {
        "colab": {
          "base_uri": "https://localhost:8080/",
          "height": 253
        },
        "id": "2u8BB3gKhvJu",
        "outputId": "31d290a7-04d1-4d95-ef41-34b9482b419d"
      },
      "source": [
        "#Explore the dataset\r\n",
        "\r\n",
        "data.head()"
      ],
      "execution_count": 4,
      "outputs": [
        {
          "output_type": "execute_result",
          "data": {
            "text/html": [
              "<div>\n",
              "<style scoped>\n",
              "    .dataframe tbody tr th:only-of-type {\n",
              "        vertical-align: middle;\n",
              "    }\n",
              "\n",
              "    .dataframe tbody tr th {\n",
              "        vertical-align: top;\n",
              "    }\n",
              "\n",
              "    .dataframe thead th {\n",
              "        text-align: right;\n",
              "    }\n",
              "</style>\n",
              "<table border=\"1\" class=\"dataframe\">\n",
              "  <thead>\n",
              "    <tr style=\"text-align: right;\">\n",
              "      <th></th>\n",
              "      <th>label</th>\n",
              "      <th>pixel0</th>\n",
              "      <th>pixel1</th>\n",
              "      <th>pixel2</th>\n",
              "      <th>pixel3</th>\n",
              "      <th>pixel4</th>\n",
              "      <th>pixel5</th>\n",
              "      <th>pixel6</th>\n",
              "      <th>pixel7</th>\n",
              "      <th>pixel8</th>\n",
              "      <th>pixel9</th>\n",
              "      <th>pixel10</th>\n",
              "      <th>pixel11</th>\n",
              "      <th>pixel12</th>\n",
              "      <th>pixel13</th>\n",
              "      <th>pixel14</th>\n",
              "      <th>pixel15</th>\n",
              "      <th>pixel16</th>\n",
              "      <th>pixel17</th>\n",
              "      <th>pixel18</th>\n",
              "      <th>pixel19</th>\n",
              "      <th>pixel20</th>\n",
              "      <th>pixel21</th>\n",
              "      <th>pixel22</th>\n",
              "      <th>pixel23</th>\n",
              "      <th>pixel24</th>\n",
              "      <th>pixel25</th>\n",
              "      <th>pixel26</th>\n",
              "      <th>pixel27</th>\n",
              "      <th>pixel28</th>\n",
              "      <th>pixel29</th>\n",
              "      <th>pixel30</th>\n",
              "      <th>pixel31</th>\n",
              "      <th>pixel32</th>\n",
              "      <th>pixel33</th>\n",
              "      <th>pixel34</th>\n",
              "      <th>pixel35</th>\n",
              "      <th>pixel36</th>\n",
              "      <th>pixel37</th>\n",
              "      <th>pixel38</th>\n",
              "      <th>...</th>\n",
              "      <th>pixel744</th>\n",
              "      <th>pixel745</th>\n",
              "      <th>pixel746</th>\n",
              "      <th>pixel747</th>\n",
              "      <th>pixel748</th>\n",
              "      <th>pixel749</th>\n",
              "      <th>pixel750</th>\n",
              "      <th>pixel751</th>\n",
              "      <th>pixel752</th>\n",
              "      <th>pixel753</th>\n",
              "      <th>pixel754</th>\n",
              "      <th>pixel755</th>\n",
              "      <th>pixel756</th>\n",
              "      <th>pixel757</th>\n",
              "      <th>pixel758</th>\n",
              "      <th>pixel759</th>\n",
              "      <th>pixel760</th>\n",
              "      <th>pixel761</th>\n",
              "      <th>pixel762</th>\n",
              "      <th>pixel763</th>\n",
              "      <th>pixel764</th>\n",
              "      <th>pixel765</th>\n",
              "      <th>pixel766</th>\n",
              "      <th>pixel767</th>\n",
              "      <th>pixel768</th>\n",
              "      <th>pixel769</th>\n",
              "      <th>pixel770</th>\n",
              "      <th>pixel771</th>\n",
              "      <th>pixel772</th>\n",
              "      <th>pixel773</th>\n",
              "      <th>pixel774</th>\n",
              "      <th>pixel775</th>\n",
              "      <th>pixel776</th>\n",
              "      <th>pixel777</th>\n",
              "      <th>pixel778</th>\n",
              "      <th>pixel779</th>\n",
              "      <th>pixel780</th>\n",
              "      <th>pixel781</th>\n",
              "      <th>pixel782</th>\n",
              "      <th>pixel783</th>\n",
              "    </tr>\n",
              "  </thead>\n",
              "  <tbody>\n",
              "    <tr>\n",
              "      <th>0</th>\n",
              "      <td>1</td>\n",
              "      <td>0</td>\n",
              "      <td>0</td>\n",
              "      <td>0</td>\n",
              "      <td>0</td>\n",
              "      <td>0</td>\n",
              "      <td>0</td>\n",
              "      <td>0</td>\n",
              "      <td>0</td>\n",
              "      <td>0</td>\n",
              "      <td>0</td>\n",
              "      <td>0</td>\n",
              "      <td>0</td>\n",
              "      <td>0</td>\n",
              "      <td>0</td>\n",
              "      <td>0</td>\n",
              "      <td>0</td>\n",
              "      <td>0</td>\n",
              "      <td>0</td>\n",
              "      <td>0</td>\n",
              "      <td>0</td>\n",
              "      <td>0</td>\n",
              "      <td>0</td>\n",
              "      <td>0</td>\n",
              "      <td>0</td>\n",
              "      <td>0</td>\n",
              "      <td>0</td>\n",
              "      <td>0</td>\n",
              "      <td>0</td>\n",
              "      <td>0</td>\n",
              "      <td>0</td>\n",
              "      <td>0</td>\n",
              "      <td>0</td>\n",
              "      <td>0</td>\n",
              "      <td>0</td>\n",
              "      <td>0</td>\n",
              "      <td>0</td>\n",
              "      <td>0</td>\n",
              "      <td>0</td>\n",
              "      <td>0</td>\n",
              "      <td>...</td>\n",
              "      <td>0</td>\n",
              "      <td>0</td>\n",
              "      <td>0</td>\n",
              "      <td>0</td>\n",
              "      <td>0</td>\n",
              "      <td>0</td>\n",
              "      <td>0</td>\n",
              "      <td>0</td>\n",
              "      <td>0</td>\n",
              "      <td>0</td>\n",
              "      <td>0</td>\n",
              "      <td>0</td>\n",
              "      <td>0</td>\n",
              "      <td>0</td>\n",
              "      <td>0</td>\n",
              "      <td>0</td>\n",
              "      <td>0</td>\n",
              "      <td>0</td>\n",
              "      <td>0</td>\n",
              "      <td>0</td>\n",
              "      <td>0</td>\n",
              "      <td>0</td>\n",
              "      <td>0</td>\n",
              "      <td>0</td>\n",
              "      <td>0</td>\n",
              "      <td>0</td>\n",
              "      <td>0</td>\n",
              "      <td>0</td>\n",
              "      <td>0</td>\n",
              "      <td>0</td>\n",
              "      <td>0</td>\n",
              "      <td>0</td>\n",
              "      <td>0</td>\n",
              "      <td>0</td>\n",
              "      <td>0</td>\n",
              "      <td>0</td>\n",
              "      <td>0</td>\n",
              "      <td>0</td>\n",
              "      <td>0</td>\n",
              "      <td>0</td>\n",
              "    </tr>\n",
              "    <tr>\n",
              "      <th>1</th>\n",
              "      <td>0</td>\n",
              "      <td>0</td>\n",
              "      <td>0</td>\n",
              "      <td>0</td>\n",
              "      <td>0</td>\n",
              "      <td>0</td>\n",
              "      <td>0</td>\n",
              "      <td>0</td>\n",
              "      <td>0</td>\n",
              "      <td>0</td>\n",
              "      <td>0</td>\n",
              "      <td>0</td>\n",
              "      <td>0</td>\n",
              "      <td>0</td>\n",
              "      <td>0</td>\n",
              "      <td>0</td>\n",
              "      <td>0</td>\n",
              "      <td>0</td>\n",
              "      <td>0</td>\n",
              "      <td>0</td>\n",
              "      <td>0</td>\n",
              "      <td>0</td>\n",
              "      <td>0</td>\n",
              "      <td>0</td>\n",
              "      <td>0</td>\n",
              "      <td>0</td>\n",
              "      <td>0</td>\n",
              "      <td>0</td>\n",
              "      <td>0</td>\n",
              "      <td>0</td>\n",
              "      <td>0</td>\n",
              "      <td>0</td>\n",
              "      <td>0</td>\n",
              "      <td>0</td>\n",
              "      <td>0</td>\n",
              "      <td>0</td>\n",
              "      <td>0</td>\n",
              "      <td>0</td>\n",
              "      <td>0</td>\n",
              "      <td>0</td>\n",
              "      <td>...</td>\n",
              "      <td>0</td>\n",
              "      <td>0</td>\n",
              "      <td>0</td>\n",
              "      <td>0</td>\n",
              "      <td>0</td>\n",
              "      <td>0</td>\n",
              "      <td>0</td>\n",
              "      <td>0</td>\n",
              "      <td>0</td>\n",
              "      <td>0</td>\n",
              "      <td>0</td>\n",
              "      <td>0</td>\n",
              "      <td>0</td>\n",
              "      <td>0</td>\n",
              "      <td>0</td>\n",
              "      <td>0</td>\n",
              "      <td>0</td>\n",
              "      <td>0</td>\n",
              "      <td>0</td>\n",
              "      <td>0</td>\n",
              "      <td>0</td>\n",
              "      <td>0</td>\n",
              "      <td>0</td>\n",
              "      <td>0</td>\n",
              "      <td>0</td>\n",
              "      <td>0</td>\n",
              "      <td>0</td>\n",
              "      <td>0</td>\n",
              "      <td>0</td>\n",
              "      <td>0</td>\n",
              "      <td>0</td>\n",
              "      <td>0</td>\n",
              "      <td>0</td>\n",
              "      <td>0</td>\n",
              "      <td>0</td>\n",
              "      <td>0</td>\n",
              "      <td>0</td>\n",
              "      <td>0</td>\n",
              "      <td>0</td>\n",
              "      <td>0</td>\n",
              "    </tr>\n",
              "    <tr>\n",
              "      <th>2</th>\n",
              "      <td>1</td>\n",
              "      <td>0</td>\n",
              "      <td>0</td>\n",
              "      <td>0</td>\n",
              "      <td>0</td>\n",
              "      <td>0</td>\n",
              "      <td>0</td>\n",
              "      <td>0</td>\n",
              "      <td>0</td>\n",
              "      <td>0</td>\n",
              "      <td>0</td>\n",
              "      <td>0</td>\n",
              "      <td>0</td>\n",
              "      <td>0</td>\n",
              "      <td>0</td>\n",
              "      <td>0</td>\n",
              "      <td>0</td>\n",
              "      <td>0</td>\n",
              "      <td>0</td>\n",
              "      <td>0</td>\n",
              "      <td>0</td>\n",
              "      <td>0</td>\n",
              "      <td>0</td>\n",
              "      <td>0</td>\n",
              "      <td>0</td>\n",
              "      <td>0</td>\n",
              "      <td>0</td>\n",
              "      <td>0</td>\n",
              "      <td>0</td>\n",
              "      <td>0</td>\n",
              "      <td>0</td>\n",
              "      <td>0</td>\n",
              "      <td>0</td>\n",
              "      <td>0</td>\n",
              "      <td>0</td>\n",
              "      <td>0</td>\n",
              "      <td>0</td>\n",
              "      <td>0</td>\n",
              "      <td>0</td>\n",
              "      <td>0</td>\n",
              "      <td>...</td>\n",
              "      <td>0</td>\n",
              "      <td>0</td>\n",
              "      <td>0</td>\n",
              "      <td>0</td>\n",
              "      <td>0</td>\n",
              "      <td>0</td>\n",
              "      <td>0</td>\n",
              "      <td>0</td>\n",
              "      <td>0</td>\n",
              "      <td>0</td>\n",
              "      <td>0</td>\n",
              "      <td>0</td>\n",
              "      <td>0</td>\n",
              "      <td>0</td>\n",
              "      <td>0</td>\n",
              "      <td>0</td>\n",
              "      <td>0</td>\n",
              "      <td>0</td>\n",
              "      <td>0</td>\n",
              "      <td>0</td>\n",
              "      <td>0</td>\n",
              "      <td>0</td>\n",
              "      <td>0</td>\n",
              "      <td>0</td>\n",
              "      <td>0</td>\n",
              "      <td>0</td>\n",
              "      <td>0</td>\n",
              "      <td>0</td>\n",
              "      <td>0</td>\n",
              "      <td>0</td>\n",
              "      <td>0</td>\n",
              "      <td>0</td>\n",
              "      <td>0</td>\n",
              "      <td>0</td>\n",
              "      <td>0</td>\n",
              "      <td>0</td>\n",
              "      <td>0</td>\n",
              "      <td>0</td>\n",
              "      <td>0</td>\n",
              "      <td>0</td>\n",
              "    </tr>\n",
              "    <tr>\n",
              "      <th>3</th>\n",
              "      <td>4</td>\n",
              "      <td>0</td>\n",
              "      <td>0</td>\n",
              "      <td>0</td>\n",
              "      <td>0</td>\n",
              "      <td>0</td>\n",
              "      <td>0</td>\n",
              "      <td>0</td>\n",
              "      <td>0</td>\n",
              "      <td>0</td>\n",
              "      <td>0</td>\n",
              "      <td>0</td>\n",
              "      <td>0</td>\n",
              "      <td>0</td>\n",
              "      <td>0</td>\n",
              "      <td>0</td>\n",
              "      <td>0</td>\n",
              "      <td>0</td>\n",
              "      <td>0</td>\n",
              "      <td>0</td>\n",
              "      <td>0</td>\n",
              "      <td>0</td>\n",
              "      <td>0</td>\n",
              "      <td>0</td>\n",
              "      <td>0</td>\n",
              "      <td>0</td>\n",
              "      <td>0</td>\n",
              "      <td>0</td>\n",
              "      <td>0</td>\n",
              "      <td>0</td>\n",
              "      <td>0</td>\n",
              "      <td>0</td>\n",
              "      <td>0</td>\n",
              "      <td>0</td>\n",
              "      <td>0</td>\n",
              "      <td>0</td>\n",
              "      <td>0</td>\n",
              "      <td>0</td>\n",
              "      <td>0</td>\n",
              "      <td>0</td>\n",
              "      <td>...</td>\n",
              "      <td>0</td>\n",
              "      <td>0</td>\n",
              "      <td>0</td>\n",
              "      <td>0</td>\n",
              "      <td>0</td>\n",
              "      <td>0</td>\n",
              "      <td>0</td>\n",
              "      <td>0</td>\n",
              "      <td>0</td>\n",
              "      <td>0</td>\n",
              "      <td>0</td>\n",
              "      <td>0</td>\n",
              "      <td>0</td>\n",
              "      <td>0</td>\n",
              "      <td>0</td>\n",
              "      <td>0</td>\n",
              "      <td>0</td>\n",
              "      <td>0</td>\n",
              "      <td>0</td>\n",
              "      <td>0</td>\n",
              "      <td>0</td>\n",
              "      <td>0</td>\n",
              "      <td>0</td>\n",
              "      <td>0</td>\n",
              "      <td>0</td>\n",
              "      <td>0</td>\n",
              "      <td>0</td>\n",
              "      <td>0</td>\n",
              "      <td>0</td>\n",
              "      <td>0</td>\n",
              "      <td>0</td>\n",
              "      <td>0</td>\n",
              "      <td>0</td>\n",
              "      <td>0</td>\n",
              "      <td>0</td>\n",
              "      <td>0</td>\n",
              "      <td>0</td>\n",
              "      <td>0</td>\n",
              "      <td>0</td>\n",
              "      <td>0</td>\n",
              "    </tr>\n",
              "    <tr>\n",
              "      <th>4</th>\n",
              "      <td>0</td>\n",
              "      <td>0</td>\n",
              "      <td>0</td>\n",
              "      <td>0</td>\n",
              "      <td>0</td>\n",
              "      <td>0</td>\n",
              "      <td>0</td>\n",
              "      <td>0</td>\n",
              "      <td>0</td>\n",
              "      <td>0</td>\n",
              "      <td>0</td>\n",
              "      <td>0</td>\n",
              "      <td>0</td>\n",
              "      <td>0</td>\n",
              "      <td>0</td>\n",
              "      <td>0</td>\n",
              "      <td>0</td>\n",
              "      <td>0</td>\n",
              "      <td>0</td>\n",
              "      <td>0</td>\n",
              "      <td>0</td>\n",
              "      <td>0</td>\n",
              "      <td>0</td>\n",
              "      <td>0</td>\n",
              "      <td>0</td>\n",
              "      <td>0</td>\n",
              "      <td>0</td>\n",
              "      <td>0</td>\n",
              "      <td>0</td>\n",
              "      <td>0</td>\n",
              "      <td>0</td>\n",
              "      <td>0</td>\n",
              "      <td>0</td>\n",
              "      <td>0</td>\n",
              "      <td>0</td>\n",
              "      <td>0</td>\n",
              "      <td>0</td>\n",
              "      <td>0</td>\n",
              "      <td>0</td>\n",
              "      <td>0</td>\n",
              "      <td>...</td>\n",
              "      <td>0</td>\n",
              "      <td>0</td>\n",
              "      <td>0</td>\n",
              "      <td>0</td>\n",
              "      <td>0</td>\n",
              "      <td>0</td>\n",
              "      <td>0</td>\n",
              "      <td>0</td>\n",
              "      <td>0</td>\n",
              "      <td>0</td>\n",
              "      <td>0</td>\n",
              "      <td>0</td>\n",
              "      <td>0</td>\n",
              "      <td>0</td>\n",
              "      <td>0</td>\n",
              "      <td>0</td>\n",
              "      <td>0</td>\n",
              "      <td>0</td>\n",
              "      <td>0</td>\n",
              "      <td>0</td>\n",
              "      <td>0</td>\n",
              "      <td>0</td>\n",
              "      <td>0</td>\n",
              "      <td>0</td>\n",
              "      <td>0</td>\n",
              "      <td>0</td>\n",
              "      <td>0</td>\n",
              "      <td>0</td>\n",
              "      <td>0</td>\n",
              "      <td>0</td>\n",
              "      <td>0</td>\n",
              "      <td>0</td>\n",
              "      <td>0</td>\n",
              "      <td>0</td>\n",
              "      <td>0</td>\n",
              "      <td>0</td>\n",
              "      <td>0</td>\n",
              "      <td>0</td>\n",
              "      <td>0</td>\n",
              "      <td>0</td>\n",
              "    </tr>\n",
              "  </tbody>\n",
              "</table>\n",
              "<p>5 rows × 785 columns</p>\n",
              "</div>"
            ],
            "text/plain": [
              "   label  pixel0  pixel1  pixel2  ...  pixel780  pixel781  pixel782  pixel783\n",
              "0      1       0       0       0  ...         0         0         0         0\n",
              "1      0       0       0       0  ...         0         0         0         0\n",
              "2      1       0       0       0  ...         0         0         0         0\n",
              "3      4       0       0       0  ...         0         0         0         0\n",
              "4      0       0       0       0  ...         0         0         0         0\n",
              "\n",
              "[5 rows x 785 columns]"
            ]
          },
          "metadata": {
            "tags": []
          },
          "execution_count": 4
        }
      ]
    },
    {
      "cell_type": "markdown",
      "metadata": {
        "id": "HA4Uqijkh9-8"
      },
      "source": [
        "# General Statistics"
      ]
    },
    {
      "cell_type": "markdown",
      "metadata": {
        "id": "8FvKqfRkiFDr"
      },
      "source": [
        "## Datatypes"
      ]
    },
    {
      "cell_type": "code",
      "metadata": {
        "colab": {
          "base_uri": "https://localhost:8080/"
        },
        "id": "nOaXDHhgiFNV",
        "outputId": "e1b6d334-eea6-4cb0-9682-a362f899a3f2"
      },
      "source": [
        "data.info()"
      ],
      "execution_count": 5,
      "outputs": [
        {
          "output_type": "stream",
          "text": [
            "<class 'pandas.core.frame.DataFrame'>\n",
            "RangeIndex: 42000 entries, 0 to 41999\n",
            "Columns: 785 entries, label to pixel783\n",
            "dtypes: int64(785)\n",
            "memory usage: 251.5 MB\n"
          ],
          "name": "stdout"
        }
      ]
    },
    {
      "cell_type": "markdown",
      "metadata": {
        "id": "0fI77j8Sie--"
      },
      "source": [
        "It's a large number of colums, but the main point is that all datatypes are the same.\r\n"
      ]
    },
    {
      "cell_type": "markdown",
      "metadata": {
        "id": "tlLDYV43i1es"
      },
      "source": [
        "## Missing Data"
      ]
    },
    {
      "cell_type": "code",
      "metadata": {
        "colab": {
          "base_uri": "https://localhost:8080/"
        },
        "id": "ZulcshOSi3dj",
        "outputId": "98346621-ca51-45fa-b798-e1f4b554eef0"
      },
      "source": [
        "sum(data.isna().sum())"
      ],
      "execution_count": 7,
      "outputs": [
        {
          "output_type": "execute_result",
          "data": {
            "text/plain": [
              "0"
            ]
          },
          "metadata": {
            "tags": []
          },
          "execution_count": 7
        }
      ]
    },
    {
      "cell_type": "markdown",
      "metadata": {
        "id": "zfKda3l6jC2Z"
      },
      "source": [
        "No missing data in the dataset"
      ]
    },
    {
      "cell_type": "markdown",
      "metadata": {
        "id": "-kj-Dm97jHs6"
      },
      "source": [
        "## Labels\r\n"
      ]
    },
    {
      "cell_type": "code",
      "metadata": {
        "colab": {
          "base_uri": "https://localhost:8080/",
          "height": 442
        },
        "id": "ysHwy0aVjJID",
        "outputId": "bd32e05f-e3a7-4dbc-998e-16ee21e6d980"
      },
      "source": [
        "fig=plt.figure(figsize=(10,7))\r\n",
        "\r\n",
        "sns.countplot(x=data.label)\r\n",
        "\r\n",
        "plt.show()"
      ],
      "execution_count": 15,
      "outputs": [
        {
          "output_type": "display_data",
          "data": {
            "image/png": "[encoded data removed]",
            "text/plain": [
              "<Figure size 720x504 with 1 Axes>"
            ]
          },
          "metadata": {
            "tags": [],
            "needs_background": "light"
          }
        }
      ]
    },
    {
      "cell_type": "markdown",
      "metadata": {
        "id": "9hz7qFdMjTrc"
      },
      "source": [
        "From the above we can see that data is balanced across the labels."
      ]
    },
    {
      "cell_type": "markdown",
      "metadata": {
        "id": "1U5V5oVwyQaQ"
      },
      "source": [
        "# Data Preprocessing"
      ]
    },
    {
      "cell_type": "code",
      "metadata": {
        "id": "SdoQHtrgwRXg"
      },
      "source": [
        "#Split target Feature\r\n",
        "\r\n",
        "y_train=data[['label']]\r\n",
        "\r\n",
        "y_train=y_train.astype('object')\r\n",
        "\r\n",
        "y_train=pd.get_dummies(y_train)\r\n",
        "\r\n",
        "y_train=y_train.to_numpy()\r\n"
      ],
      "execution_count": 93,
      "outputs": []
    },
    {
      "cell_type": "code",
      "metadata": {
        "id": "r4rpmDbiydeG"
      },
      "source": [
        "#Extract Feature\r\n",
        "\r\n",
        "X_train=data.drop('label',axis=1).to_numpy()\r\n"
      ],
      "execution_count": 94,
      "outputs": []
    },
    {
      "cell_type": "code",
      "metadata": {
        "colab": {
          "base_uri": "https://localhost:8080/"
        },
        "id": "h_-UluHwEtEk",
        "outputId": "936c0574-8447-4a9b-cfa1-8fb31706fe0f"
      },
      "source": [
        "y_train"
      ],
      "execution_count": 102,
      "outputs": [
        {
          "output_type": "execute_result",
          "data": {
            "text/plain": [
              "array([[0, 1, 0, ..., 0, 0, 0],\n",
              "       [1, 0, 0, ..., 0, 0, 0],\n",
              "       [0, 1, 0, ..., 0, 0, 0],\n",
              "       ...,\n",
              "       [0, 0, 0, ..., 1, 0, 0],\n",
              "       [0, 0, 0, ..., 0, 0, 0],\n",
              "       [0, 0, 0, ..., 0, 0, 1]], dtype=uint8)"
            ]
          },
          "metadata": {
            "tags": []
          },
          "execution_count": 102
        }
      ]
    },
    {
      "cell_type": "code",
      "metadata": {
        "colab": {
          "base_uri": "https://localhost:8080/",
          "height": 1000
        },
        "id": "IRzfUZcsDzUb",
        "outputId": "dd352400-6826-4c42-b74a-6267d759ece6"
      },
      "source": [
        "#Visualizing some images\r\n",
        "\r\n",
        "for i in range(0,9):\r\n",
        "  ax=plt.figure(figsize=(2,2))\r\n",
        "  plt.imshow(X_train[i].reshape(28,28),cmap='Greys' )\r\n",
        "  plt.show()\r\n",
        " "
      ],
      "execution_count": 271,
      "outputs": [
        {
          "output_type": "display_data",
          "data": {
            "image/png": "[encoded data removed]",
            "text/plain": [
              "<Figure size 144x144 with 1 Axes>"
            ]
          },
          "metadata": {
            "tags": [],
            "needs_background": "light"
          }
        },
        {
          "output_type": "display_data",
          "data": {
            "image/png": "[encoded data removed]",
            "text/plain": [
              "<Figure size 144x144 with 1 Axes>"
            ]
          },
          "metadata": {
            "tags": [],
            "needs_background": "light"
          }
        },
        {
          "output_type": "display_data",
          "data": {
            "image/png": "[encoded data removed]",
            "text/plain": [
              "<Figure size 144x144 with 1 Axes>"
            ]
          },
          "metadata": {
            "tags": [],
            "needs_background": "light"
          }
        },
        {
          "output_type": "display_data",
          "data": {
            "image/png": "[encoded data removed]",
            "text/plain": [
              "<Figure size 144x144 with 1 Axes>"
            ]
          },
          "metadata": {
            "tags": [],
            "needs_background": "light"
          }
        },
        {
          "output_type": "display_data",
          "data": {
            "image/png": "[encoded data removed]",
            "text/plain": [
              "<Figure size 144x144 with 1 Axes>"
            ]
          },
          "metadata": {
            "tags": [],
            "needs_background": "light"
          }
        },
        {
          "output_type": "display_data",
          "data": {
            "image/png": "[encoded data removed]",
            "text/plain": [
              "<Figure size 144x144 with 1 Axes>"
            ]
          },
          "metadata": {
            "tags": [],
            "needs_background": "light"
          }
        },
        {
          "output_type": "display_data",
          "data": {
            "image/png": "[encoded data removed]",
            "text/plain": [
              "<Figure size 144x144 with 1 Axes>"
            ]
          },
          "metadata": {
            "tags": [],
            "needs_background": "light"
          }
        },
        {
          "output_type": "display_data",
          "data": {
            "image/png": "[encoded data removed]",
            "text/plain": [
              "<Figure size 144x144 with 1 Axes>"
            ]
          },
          "metadata": {
            "tags": [],
            "needs_background": "light"
          }
        },
        {
          "output_type": "display_data",
          "data": {
            "image/png": "[encoded data removed]",
            "text/plain": [
              "<Figure size 144x144 with 1 Axes>"
            ]
          },
          "metadata": {
            "tags": [],
            "needs_background": "light"
          }
        }
      ]
    },
    {
      "cell_type": "markdown",
      "metadata": {
        "id": "7i_WFBnUk8F7"
      },
      "source": [
        "# Modeling"
      ]
    },
    {
      "cell_type": "markdown",
      "metadata": {
        "id": "cgqTpa_VlCiz"
      },
      "source": [
        "For this project we are gonna implement an Artificial Neural Network to predict the hand-writen number.\r\n",
        "\r\n",
        "We are gonna use Sequential model to implement the Neural Network"
      ]
    },
    {
      "cell_type": "markdown",
      "metadata": {
        "id": "e7EijY1h47rp"
      },
      "source": [
        "## Initializing the Neural Network"
      ]
    },
    {
      "cell_type": "code",
      "metadata": {
        "id": "MOqJs4yUpOON"
      },
      "source": [
        "#Define Sequential Model\r\n",
        "\r\n",
        "model=keras.Sequential()\r\n",
        "\r\n",
        "# Define the first layer\r\n",
        "model.add(keras.layers.Dense(400,activation='relu',input_shape=(784,)))\r\n",
        "\r\n",
        "# Add activation function to classifier\r\n",
        "model.add(keras.layers.Dense(10, activation='softmax'))\r\n",
        "\r\n",
        "# Finish the model compilation\r\n",
        "model.compile(optimizer='RMSprop',loss='categorical_crossentropy', metrics=['accuracy'])"
      ],
      "execution_count": 95,
      "outputs": []
    },
    {
      "cell_type": "code",
      "metadata": {
        "colab": {
          "base_uri": "https://localhost:8080/"
        },
        "id": "ocZIFOCf5EOa",
        "outputId": "8c0a1fad-be17-4e5e-d404-61ebe9d56465"
      },
      "source": [
        "model.summary()"
      ],
      "execution_count": 28,
      "outputs": [
        {
          "output_type": "stream",
          "text": [
            "Model: \"sequential_2\"\n",
            "_________________________________________________________________\n",
            "Layer (type)                 Output Shape              Param #   \n",
            "=================================================================\n",
            "dense_2 (Dense)              (None, 400)               314000    \n",
            "_________________________________________________________________\n",
            "dense_3 (Dense)              (None, 10)                4010      \n",
            "=================================================================\n",
            "Total params: 318,010\n",
            "Trainable params: 318,010\n",
            "Non-trainable params: 0\n",
            "_________________________________________________________________\n"
          ],
          "name": "stdout"
        }
      ]
    },
    {
      "cell_type": "markdown",
      "metadata": {
        "id": "YWhL_FwmpHVF"
      },
      "source": [
        "## Fit Neural Network"
      ]
    },
    {
      "cell_type": "code",
      "metadata": {
        "colab": {
          "base_uri": "https://localhost:8080/"
        },
        "id": "irpGZ9FM5Qxm",
        "outputId": "5bd0618a-6114-44a3-bdf4-557aeac04ddf"
      },
      "source": [
        "#Complete the model fit operation\r\n",
        "\r\n",
        "model.fit(X_train, y_train, epochs=10,batch_size=128,validation_split=0.2)"
      ],
      "execution_count": 123,
      "outputs": [
        {
          "output_type": "stream",
          "text": [
            "Epoch 1/10\n",
            "263/263 [==============================] - 2s 9ms/step - loss: 0.0476 - accuracy: 0.9967 - val_loss: 0.1384 - val_accuracy: 0.9945\n",
            "Epoch 2/10\n",
            "263/263 [==============================] - 2s 9ms/step - loss: 0.0445 - accuracy: 0.9971 - val_loss: 0.1129 - val_accuracy: 0.9939\n",
            "Epoch 3/10\n",
            "263/263 [==============================] - 2s 9ms/step - loss: 0.0419 - accuracy: 0.9969 - val_loss: 0.1238 - val_accuracy: 0.9935\n",
            "Epoch 4/10\n",
            "263/263 [==============================] - 2s 9ms/step - loss: 0.0376 - accuracy: 0.9974 - val_loss: 0.0795 - val_accuracy: 0.9948\n",
            "Epoch 5/10\n",
            "263/263 [==============================] - 2s 9ms/step - loss: 0.0335 - accuracy: 0.9977 - val_loss: 0.1183 - val_accuracy: 0.9940\n",
            "Epoch 6/10\n",
            "263/263 [==============================] - 2s 9ms/step - loss: 0.0351 - accuracy: 0.9976 - val_loss: 0.1600 - val_accuracy: 0.9919\n",
            "Epoch 7/10\n",
            "263/263 [==============================] - 2s 9ms/step - loss: 0.0308 - accuracy: 0.9980 - val_loss: 0.1567 - val_accuracy: 0.9925\n",
            "Epoch 8/10\n",
            "263/263 [==============================] - 2s 9ms/step - loss: 0.0332 - accuracy: 0.9975 - val_loss: 0.1764 - val_accuracy: 0.9924\n",
            "Epoch 9/10\n",
            "263/263 [==============================] - 2s 9ms/step - loss: 0.0374 - accuracy: 0.9975 - val_loss: 0.1756 - val_accuracy: 0.9915\n",
            "Epoch 10/10\n",
            "263/263 [==============================] - 2s 9ms/step - loss: 0.0374 - accuracy: 0.9981 - val_loss: 0.1597 - val_accuracy: 0.9932\n"
          ],
          "name": "stdout"
        },
        {
          "output_type": "execute_result",
          "data": {
            "text/plain": [
              "<tensorflow.python.keras.callbacks.History at 0x7f9b6b1f2208>"
            ]
          },
          "metadata": {
            "tags": []
          },
          "execution_count": 123
        }
      ]
    },
    {
      "cell_type": "markdown",
      "metadata": {
        "id": "No2rq47rQJlW"
      },
      "source": [
        "# Import pictures to predict"
      ]
    },
    {
      "cell_type": "code",
      "metadata": {
        "colab": {
          "base_uri": "https://localhost:8080/",
          "height": 320
        },
        "id": "aVYVkuenQNv6",
        "outputId": "2e31eeec-bef5-404e-c67b-e8e6c62bb58f"
      },
      "source": [
        "import PIL\r\n",
        "from PIL import Image\r\n",
        "\r\n",
        "\r\n",
        "# Open the image form working directory\r\n",
        "\r\n",
        "image = Image.open('/content/drive/MyDrive/Colab Notebooks/Digit Recognizer/img1.jpg')\r\n",
        "\r\n",
        "#Summarize some details about the image\r\n",
        "\r\n",
        "print(image.format)\r\n",
        "print(image.size)\r\n",
        "print(image.mode)\r\n",
        "\r\n",
        "#Show the image\r\n",
        "plt.imshow(image.rotate(0))\r\n",
        "plt.show()\r\n",
        "\r\n"
      ],
      "execution_count": 304,
      "outputs": [
        {
          "output_type": "stream",
          "text": [
            "JPEG\n",
            "(4000, 3000)\n",
            "RGB\n"
          ],
          "name": "stdout"
        },
        {
          "output_type": "display_data",
          "data": {
            "image/png": "[encoded data removed]",
            "text/plain": [
              "<Figure size 432x288 with 1 Axes>"
            ]
          },
          "metadata": {
            "tags": [],
            "needs_background": "light"
          }
        }
      ]
    },
    {
      "cell_type": "code",
      "metadata": {
        "id": "C9V5K_PDZ96G"
      },
      "source": [
        "#Convert picture to Gray Scale\r\n",
        "\r\n",
        "new_pic=image.convert(\"L\")\r\n"
      ],
      "execution_count": 320,
      "outputs": []
    },
    {
      "cell_type": "code",
      "metadata": {
        "colab": {
          "base_uri": "https://localhost:8080/",
          "height": 286
        },
        "id": "7c4oWIDkjGzY",
        "outputId": "cdc5f31a-cef3-402d-f278-f0eeab604df4"
      },
      "source": [
        "plt.imshow(new_pic.rotate(0),cmap='Greys')"
      ],
      "execution_count": 321,
      "outputs": [
        {
          "output_type": "execute_result",
          "data": {
            "text/plain": [
              "<matplotlib.image.AxesImage at 0x7f9b6b744588>"
            ]
          },
          "metadata": {
            "tags": []
          },
          "execution_count": 321
        },
        {
          "output_type": "display_data",
          "data": {
            "image/png": "[encoded data removed]",
            "text/plain": [
              "<Figure size 432x288 with 1 Axes>"
            ]
          },
          "metadata": {
            "tags": [],
            "needs_background": "light"
          }
        }
      ]
    },
    {
      "cell_type": "code",
      "metadata": {
        "id": "e6fLwydcdYn-"
      },
      "source": [
        "#Resize the picture\r\n",
        "\r\n",
        "new_pic=new_pic.resize((28,28))"
      ],
      "execution_count": 322,
      "outputs": []
    },
    {
      "cell_type": "code",
      "metadata": {
        "id": "jHY4Is2PUps-"
      },
      "source": [
        "#Translate picture to data\r\n",
        "\r\n",
        "data_pic=np.asarray(new_pic)"
      ],
      "execution_count": 323,
      "outputs": []
    },
    {
      "cell_type": "code",
      "metadata": {
        "colab": {
          "base_uri": "https://localhost:8080/"
        },
        "id": "-2Tj2AktZdLJ",
        "outputId": "2cba01d0-14e8-4db4-c187-c24ce5e9c5d0"
      },
      "source": [
        "#Check Shape\r\n",
        "\r\n",
        "data_pic.shape"
      ],
      "execution_count": 324,
      "outputs": [
        {
          "output_type": "execute_result",
          "data": {
            "text/plain": [
              "(28, 28)"
            ]
          },
          "metadata": {
            "tags": []
          },
          "execution_count": 324
        }
      ]
    },
    {
      "cell_type": "code",
      "metadata": {
        "id": "oRLSEQXuduwI"
      },
      "source": [
        "nose=data_pic.reshape(1,784)"
      ],
      "execution_count": 325,
      "outputs": []
    },
    {
      "cell_type": "code",
      "metadata": {
        "id": "5GItHMWcrUrV"
      },
      "source": [
        "nose=X_train[0].reshape(28,28)\r\n",
        "nose=nose.reshape(1,784)"
      ],
      "execution_count": 331,
      "outputs": []
    },
    {
      "cell_type": "code",
      "metadata": {
        "id": "Xdmw7r-TS_i7"
      },
      "source": [
        "#Predict\r\n",
        "\r\n",
        "preds=model.predict(nose)"
      ],
      "execution_count": 332,
      "outputs": []
    },
    {
      "cell_type": "code",
      "metadata": {
        "colab": {
          "base_uri": "https://localhost:8080/"
        },
        "id": "4IB3GyRngAwj",
        "outputId": "0670aa23-e9e2-4a7a-90f3-8ba255b943bf"
      },
      "source": [
        "preds"
      ],
      "execution_count": 333,
      "outputs": [
        {
          "output_type": "execute_result",
          "data": {
            "text/plain": [
              "array([[0., 1., 0., 0., 0., 0., 0., 0., 0., 0.]], dtype=float32)"
            ]
          },
          "metadata": {
            "tags": []
          },
          "execution_count": 333
        }
      ]
    },
    {
      "cell_type": "code",
      "metadata": {
        "colab": {
          "base_uri": "https://localhost:8080/"
        },
        "id": "VhHfjio1v-SI",
        "outputId": "58e6e1f5-b390-4e5a-d56f-83d504d2442c"
      },
      "source": [
        "print(np.argmax(preds,axis=1))"
      ],
      "execution_count": 334,
      "outputs": [
        {
          "output_type": "stream",
          "text": [
            "[1]\n"
          ],
          "name": "stdout"
        }
      ]
    },
    {
      "cell_type": "code",
      "metadata": {
        "colab": {
          "base_uri": "https://localhost:8080/"
        },
        "id": "GgHHSorzf5yW",
        "outputId": "53121338-9c1f-4bef-eabe-000164d552ef"
      },
      "source": [
        "nose.shape"
      ],
      "execution_count": 174,
      "outputs": [
        {
          "output_type": "execute_result",
          "data": {
            "text/plain": [
              "(784,)"
            ]
          },
          "metadata": {
            "tags": []
          },
          "execution_count": 174
        }
      ]
    },
    {
      "cell_type": "code",
      "metadata": {
        "colab": {
          "base_uri": "https://localhost:8080/"
        },
        "id": "NZOVGJ1BizD_",
        "outputId": "9912fb13-96d4-4d59-de76-c00c9c8b3995"
      },
      "source": [
        "nose"
      ],
      "execution_count": 202,
      "outputs": [
        {
          "output_type": "execute_result",
          "data": {
            "text/plain": [
              "array([[0.72156863, 0.7254902 , 0.7372549 , 0.74117647, 0.7372549 ,\n",
              "        0.7372549 , 0.75294118, 0.75686275, 0.75294118, 0.75294118,\n",
              "        0.74117647, 0.7254902 , 0.70980392, 0.69803922, 0.68627451,\n",
              "        0.68235294, 0.6745098 , 0.66666667, 0.6627451 , 0.65882353,\n",
              "        0.65490196, 0.65098039, 0.64313725, 0.63529412, 0.62352941,\n",
              "        0.61176471, 0.58039216, 0.54509804, 0.72941176, 0.74117647,\n",
              "        0.74901961, 0.75686275, 0.75294118, 0.75294118, 0.76470588,\n",
              "        0.76078431, 0.75294118, 0.74509804, 0.73333333, 0.71372549,\n",
              "        0.70196078, 0.69411765, 0.68627451, 0.67843137, 0.67058824,\n",
              "        0.66666667, 0.6627451 , 0.6627451 , 0.65882353, 0.65882353,\n",
              "        0.65098039, 0.64705882, 0.63921569, 0.63529412, 0.61960784,\n",
              "        0.60784314, 0.74509804, 0.75294118, 0.75294118, 0.74901961,\n",
              "        0.74509804, 0.7372549 , 0.73333333, 0.7254902 , 0.71372549,\n",
              "        0.70588235, 0.69411765, 0.67843137, 0.65882353, 0.64313725,\n",
              "        0.65098039, 0.67058824, 0.66666667, 0.66666667, 0.6627451 ,\n",
              "        0.6627451 , 0.65882353, 0.65882353, 0.65490196, 0.65098039,\n",
              "        0.65098039, 0.64313725, 0.63137255, 0.61568627, 0.74117647,\n",
              "        0.74117647, 0.73333333, 0.71764706, 0.70588235, 0.69411765,\n",
              "        0.69019608, 0.69019608, 0.68627451, 0.67843137, 0.63137255,\n",
              "        0.58823529, 0.58823529, 0.58823529, 0.58823529, 0.6       ,\n",
              "        0.65098039, 0.6627451 , 0.6627451 , 0.65882353, 0.65490196,\n",
              "        0.65098039, 0.65098039, 0.64705882, 0.64705882, 0.63921569,\n",
              "        0.63137255, 0.61568627, 0.72941176, 0.7254902 , 0.71372549,\n",
              "        0.70196078, 0.69803922, 0.69803922, 0.69803922, 0.69803922,\n",
              "        0.69411765, 0.61960784, 0.58039216, 0.63137255, 0.6627451 ,\n",
              "        0.67058824, 0.6627451 , 0.62352941, 0.60392157, 0.65882353,\n",
              "        0.65882353, 0.65490196, 0.65098039, 0.64313725, 0.64313725,\n",
              "        0.64705882, 0.64313725, 0.63529412, 0.62745098, 0.61176471,\n",
              "        0.73333333, 0.7254902 , 0.71372549, 0.69803922, 0.69803922,\n",
              "        0.70196078, 0.70196078, 0.69411765, 0.69411765, 0.65098039,\n",
              "        0.65490196, 0.69019608, 0.6745098 , 0.6627451 , 0.65490196,\n",
              "        0.65490196, 0.60784314, 0.63529412, 0.65098039, 0.64313725,\n",
              "        0.64313725, 0.63921569, 0.63921569, 0.63921569, 0.63529412,\n",
              "        0.62745098, 0.62352941, 0.60784314, 0.72941176, 0.72156863,\n",
              "        0.70980392, 0.69803922, 0.70196078, 0.69803922, 0.69411765,\n",
              "        0.69411765, 0.68627451, 0.69019608, 0.69019608, 0.6745098 ,\n",
              "        0.6627451 , 0.65490196, 0.64705882, 0.64313725, 0.61568627,\n",
              "        0.60784314, 0.64313725, 0.63921569, 0.63529412, 0.63529412,\n",
              "        0.63529412, 0.63137255, 0.63137255, 0.62745098, 0.61960784,\n",
              "        0.60784314, 0.73333333, 0.7254902 , 0.71372549, 0.70588235,\n",
              "        0.70588235, 0.70196078, 0.69411765, 0.69019608, 0.68627451,\n",
              "        0.68627451, 0.68235294, 0.67058824, 0.65882353, 0.64705882,\n",
              "        0.64313725, 0.63529412, 0.61960784, 0.58823529, 0.63921569,\n",
              "        0.63529412, 0.63529412, 0.63529412, 0.62745098, 0.62352941,\n",
              "        0.63529412, 0.62745098, 0.61568627, 0.60392157, 0.7372549 ,\n",
              "        0.72941176, 0.71372549, 0.70980392, 0.71372549, 0.70980392,\n",
              "        0.70196078, 0.69803922, 0.69803922, 0.69411765, 0.69019608,\n",
              "        0.67843137, 0.6627451 , 0.64705882, 0.64313725, 0.63921569,\n",
              "        0.62352941, 0.57647059, 0.63921569, 0.63921569, 0.63529412,\n",
              "        0.63529412, 0.63137255, 0.62745098, 0.63137255, 0.62352941,\n",
              "        0.61176471, 0.60392157, 0.73333333, 0.72941176, 0.71764706,\n",
              "        0.71372549, 0.71372549, 0.70980392, 0.70196078, 0.69803922,\n",
              "        0.69803922, 0.69411765, 0.69019608, 0.6745098 , 0.65882353,\n",
              "        0.64705882, 0.64705882, 0.64313725, 0.61960784, 0.56862745,\n",
              "        0.64313725, 0.63921569, 0.63921569, 0.63529412, 0.63529412,\n",
              "        0.62352941, 0.62745098, 0.62352941, 0.61568627, 0.60784314,\n",
              "        0.7254902 , 0.72156863, 0.71764706, 0.71372549, 0.70980392,\n",
              "        0.70588235, 0.69803922, 0.69411765, 0.69019608, 0.68627451,\n",
              "        0.67843137, 0.6627451 , 0.65098039, 0.63921569, 0.63529412,\n",
              "        0.63529412, 0.58823529, 0.58039216, 0.64705882, 0.63921569,\n",
              "        0.63921569, 0.63137255, 0.62745098, 0.62352941, 0.62352941,\n",
              "        0.62352941, 0.61568627, 0.60392157, 0.72156863, 0.71764706,\n",
              "        0.71372549, 0.70980392, 0.70196078, 0.69803922, 0.69019608,\n",
              "        0.68627451, 0.68235294, 0.68235294, 0.6627451 , 0.65098039,\n",
              "        0.63921569, 0.63137255, 0.62745098, 0.61568627, 0.55294118,\n",
              "        0.61568627, 0.63921569, 0.63529412, 0.63529412, 0.62745098,\n",
              "        0.62745098, 0.62745098, 0.61568627, 0.61568627, 0.61176471,\n",
              "        0.59607843, 0.72156863, 0.71372549, 0.70980392, 0.70196078,\n",
              "        0.69019608, 0.68627451, 0.68235294, 0.6745098 , 0.67843137,\n",
              "        0.66666667, 0.64705882, 0.63921569, 0.62745098, 0.62745098,\n",
              "        0.61176471, 0.55686275, 0.57254902, 0.63529412, 0.62745098,\n",
              "        0.62352941, 0.62352941, 0.61176471, 0.61568627, 0.61176471,\n",
              "        0.60392157, 0.6       , 0.59607843, 0.58823529, 0.72156863,\n",
              "        0.70588235, 0.69411765, 0.68627451, 0.68235294, 0.67843137,\n",
              "        0.67058824, 0.66666667, 0.66666667, 0.65098039, 0.63921569,\n",
              "        0.62745098, 0.62352941, 0.59215686, 0.54117647, 0.56862745,\n",
              "        0.62745098, 0.62352941, 0.61568627, 0.61176471, 0.60784314,\n",
              "        0.6       , 0.59607843, 0.59607843, 0.59215686, 0.59215686,\n",
              "        0.58823529, 0.58039216, 0.70980392, 0.69019608, 0.68627451,\n",
              "        0.68235294, 0.68235294, 0.67843137, 0.67058824, 0.6627451 ,\n",
              "        0.65490196, 0.63921569, 0.63529412, 0.61960784, 0.57254902,\n",
              "        0.53333333, 0.57647059, 0.63529412, 0.62745098, 0.61176471,\n",
              "        0.60784314, 0.60392157, 0.60392157, 0.6       , 0.6       ,\n",
              "        0.59607843, 0.59215686, 0.59215686, 0.58823529, 0.58039216,\n",
              "        0.69411765, 0.69019608, 0.69019608, 0.69019608, 0.68627451,\n",
              "        0.68235294, 0.67058824, 0.6627451 , 0.65490196, 0.64313725,\n",
              "        0.61960784, 0.56078431, 0.54117647, 0.6       , 0.63529412,\n",
              "        0.63137255, 0.61960784, 0.61176471, 0.60784314, 0.60784314,\n",
              "        0.60392157, 0.60392157, 0.6       , 0.59607843, 0.59607843,\n",
              "        0.59215686, 0.58823529, 0.58431373, 0.69411765, 0.69411765,\n",
              "        0.69019608, 0.68627451, 0.68235294, 0.67843137, 0.67058824,\n",
              "        0.6627451 , 0.65098039, 0.61568627, 0.55294118, 0.56862745,\n",
              "        0.62745098, 0.63921569, 0.63137255, 0.62745098, 0.61960784,\n",
              "        0.61176471, 0.60784314, 0.60784314, 0.60392157, 0.60392157,\n",
              "        0.6       , 0.6       , 0.6       , 0.6       , 0.59607843,\n",
              "        0.58823529, 0.69019608, 0.69411765, 0.68627451, 0.68235294,\n",
              "        0.67843137, 0.67843137, 0.67058824, 0.65882353, 0.61176471,\n",
              "        0.55686275, 0.58431373, 0.63529412, 0.62745098, 0.61176471,\n",
              "        0.61176471, 0.61176471, 0.60392157, 0.60392157, 0.60392157,\n",
              "        0.6       , 0.60392157, 0.60392157, 0.6       , 0.6       ,\n",
              "        0.60392157, 0.6       , 0.6       , 0.59215686, 0.68627451,\n",
              "        0.68627451, 0.68235294, 0.68235294, 0.67843137, 0.6745098 ,\n",
              "        0.66666667, 0.60784314, 0.54901961, 0.55686275, 0.57254902,\n",
              "        0.56078431, 0.54901961, 0.54117647, 0.54117647, 0.54117647,\n",
              "        0.54117647, 0.54117647, 0.54117647, 0.54509804, 0.55686275,\n",
              "        0.56470588, 0.58823529, 0.59607843, 0.59607843, 0.59607843,\n",
              "        0.59215686, 0.58431373, 0.67843137, 0.68235294, 0.68235294,\n",
              "        0.67843137, 0.6745098 , 0.6745098 , 0.65490196, 0.54901961,\n",
              "        0.54901961, 0.57254902, 0.58431373, 0.58823529, 0.59607843,\n",
              "        0.59215686, 0.58823529, 0.58823529, 0.57647059, 0.56470588,\n",
              "        0.55294118, 0.5372549 , 0.52941176, 0.51372549, 0.56078431,\n",
              "        0.59607843, 0.58823529, 0.58431373, 0.58431373, 0.57254902,\n",
              "        0.67843137, 0.67843137, 0.67843137, 0.67843137, 0.6745098 ,\n",
              "        0.6745098 , 0.6745098 , 0.63137255, 0.63137255, 0.64705882,\n",
              "        0.64313725, 0.63921569, 0.63137255, 0.62352941, 0.62745098,\n",
              "        0.63137255, 0.61568627, 0.60784314, 0.60784314, 0.6       ,\n",
              "        0.58823529, 0.57647059, 0.57647059, 0.58431373, 0.58039216,\n",
              "        0.57647059, 0.56862745, 0.55686275, 0.6745098 , 0.67843137,\n",
              "        0.68235294, 0.67843137, 0.67843137, 0.67843137, 0.6745098 ,\n",
              "        0.67058824, 0.65490196, 0.64705882, 0.63529412, 0.63137255,\n",
              "        0.62352941, 0.61960784, 0.61960784, 0.61568627, 0.60392157,\n",
              "        0.6       , 0.6       , 0.6       , 0.58823529, 0.58823529,\n",
              "        0.58823529, 0.58039216, 0.57254902, 0.56862745, 0.56470588,\n",
              "        0.54901961, 0.6745098 , 0.68235294, 0.68235294, 0.67843137,\n",
              "        0.68235294, 0.67843137, 0.6745098 , 0.65882353, 0.64705882,\n",
              "        0.63921569, 0.63529412, 0.62745098, 0.62352941, 0.61568627,\n",
              "        0.61568627, 0.61568627, 0.60392157, 0.6       , 0.59607843,\n",
              "        0.59607843, 0.58823529, 0.58431373, 0.58039216, 0.57647059,\n",
              "        0.57254902, 0.57254902, 0.56470588, 0.54901961, 0.67843137,\n",
              "        0.68235294, 0.68235294, 0.67843137, 0.67843137, 0.6745098 ,\n",
              "        0.66666667, 0.65882353, 0.65098039, 0.64313725, 0.63921569,\n",
              "        0.63137255, 0.62352941, 0.61960784, 0.61568627, 0.61568627,\n",
              "        0.60392157, 0.59607843, 0.59607843, 0.59215686, 0.58431373,\n",
              "        0.58431373, 0.58431373, 0.57647059, 0.57647059, 0.57254902,\n",
              "        0.56470588, 0.54901961, 0.67058824, 0.6745098 , 0.67843137,\n",
              "        0.6745098 , 0.67058824, 0.66666667, 0.65882353, 0.65490196,\n",
              "        0.65098039, 0.64313725, 0.63921569, 0.63137255, 0.62352941,\n",
              "        0.61960784, 0.61568627, 0.61568627, 0.60392157, 0.59215686,\n",
              "        0.59215686, 0.58823529, 0.58431373, 0.58431373, 0.58039216,\n",
              "        0.57647059, 0.57254902, 0.57254902, 0.56470588, 0.54901961,\n",
              "        0.65882353, 0.66666667, 0.6627451 , 0.6627451 , 0.65882353,\n",
              "        0.65490196, 0.65098039, 0.65098039, 0.64313725, 0.63529412,\n",
              "        0.63137255, 0.61960784, 0.61568627, 0.61176471, 0.60784314,\n",
              "        0.60784314, 0.59215686, 0.59215686, 0.59215686, 0.58823529,\n",
              "        0.58039216, 0.58039216, 0.57647059, 0.57647059, 0.57254902,\n",
              "        0.56862745, 0.56078431, 0.54509804, 0.64313725, 0.65098039,\n",
              "        0.65490196, 0.65490196, 0.65098039, 0.65098039, 0.64313725,\n",
              "        0.63921569, 0.63529412, 0.62745098, 0.61960784, 0.61176471,\n",
              "        0.60784314, 0.60392157, 0.6       , 0.6       , 0.58823529,\n",
              "        0.58823529, 0.58431373, 0.58039216, 0.57254902, 0.57254902,\n",
              "        0.57254902, 0.57254902, 0.56862745, 0.56078431, 0.54901961,\n",
              "        0.5372549 , 0.63529412, 0.65098039, 0.64705882, 0.64705882,\n",
              "        0.64705882, 0.64313725, 0.63529412, 0.62745098, 0.62745098,\n",
              "        0.61960784, 0.61176471, 0.60392157, 0.6       , 0.59607843,\n",
              "        0.59607843, 0.59215686, 0.58039216, 0.57647059, 0.57254902,\n",
              "        0.56862745, 0.56470588, 0.56470588, 0.56470588, 0.56078431,\n",
              "        0.55294118, 0.54901961, 0.5372549 , 0.52156863]])"
            ]
          },
          "metadata": {
            "tags": []
          },
          "execution_count": 202
        }
      ]
    },
    {
      "cell_type": "code",
      "metadata": {
        "colab": {
          "base_uri": "https://localhost:8080/"
        },
        "id": "M_GDigD2TaVO",
        "outputId": "a3d518d2-2442-403b-e8d8-4845a875bb4c"
      },
      "source": [
        "df.shape"
      ],
      "execution_count": 150,
      "outputs": [
        {
          "output_type": "execute_result",
          "data": {
            "text/plain": [
              "(3000, 4000)"
            ]
          },
          "metadata": {
            "tags": []
          },
          "execution_count": 150
        }
      ]
    },
    {
      "cell_type": "code",
      "metadata": {
        "colab": {
          "base_uri": "https://localhost:8080/"
        },
        "id": "72_5Rth2hGFG",
        "outputId": "76bab349-0bc3-4804-d2f6-7c606b03978d"
      },
      "source": [
        "data.pixel500.value_counts()"
      ],
      "execution_count": 188,
      "outputs": [
        {
          "output_type": "execute_result",
          "data": {
            "text/plain": [
              "0      40311\n",
              "253      117\n",
              "252       66\n",
              "254       32\n",
              "251       23\n",
              "       ...  \n",
              "180        1\n",
              "232        1\n",
              "188        1\n",
              "124        1\n",
              "206        1\n",
              "Name: pixel500, Length: 253, dtype: int64"
            ]
          },
          "metadata": {
            "tags": []
          },
          "execution_count": 188
        }
      ]
    }
  ]
}